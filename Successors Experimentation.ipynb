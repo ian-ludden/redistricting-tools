{
 "cells": [
  {
   "cell_type": "markdown",
   "metadata": {},
   "source": [
    "# Successors Experimentation\n",
    "Attempting to figure out how to use GerryChain classes/methods to find successors of a partition. "
   ]
  },
  {
   "cell_type": "code",
   "execution_count": 3,
   "metadata": {},
   "outputs": [],
   "source": [
    "# Imports\n",
    "import csv\n",
    "import descartes\n",
    "import geopandas as gpd\n",
    "import networkx as nx\n",
    "import math\n",
    "import numpy as np\n",
    "import os\n",
    "import pandas as pd\n",
    "import random\n",
    "import timeit\n",
    "\n",
    "from gerrychain import Graph, Partition\n",
    "from gerrychain.updaters import cut_edges\n",
    "\n",
    "import compatibility"
   ]
  },
  {
   "cell_type": "code",
   "execution_count": 4,
   "metadata": {},
   "outputs": [],
   "source": [
    "# Load data\n",
    "HOME_DIR = os.path.expanduser(\"~\")\n",
    "DATA_DIR = '{0}/{1}'.format(HOME_DIR, 'Documents/Data') \n",
    "tracts_fpath = 'zip://{0}/{1}'.format(DATA_DIR, 'Census/Wisconsin/tl_2013_55_tract.zip')\n",
    "gdf = gpd.read_file(tracts_fpath)\n",
    "gdf = gdf.set_index('GEOID')\n",
    "\n",
    "pop_fpath = '{0}/Census/Wisconsin/2010_CensusTractPopulations/DEC_10_SF1_P1_with_ann_modified.csv'.format(DATA_DIR)\n",
    "\n",
    "with open(pop_fpath, 'r') as pop_file:\n",
    "    pop_reader = csv.reader(pop_file)\n",
    "    pop_raw = list(pop_reader)\n",
    "\n",
    "pop_headers = pop_raw.pop(0)\n",
    "pop_df = pd.DataFrame(pop_raw, columns=pop_headers).astype({\"POP\": int})\n",
    "pop_df = pop_df.drop(columns=['GEOIDLONG', 'DISPLAYNAME'])\n",
    "pop_df = pop_df.set_index('GEOID')\n",
    "gdf = gdf.join(pop_df)\n",
    "\n",
    "map_a_filepath = '{0}/ICOR/Wisconsin/wi-gerrymander-dem.csv'.format(DATA_DIR)\n",
    "map_b_filepath = '{0}/ICOR/Wisconsin/wi-gerrymander-rep.csv'.format(DATA_DIR)\n",
    "\n",
    "map_gdf = [None, None]\n",
    "\n",
    "for i, map_fpath in enumerate([map_a_filepath, map_b_filepath]):\n",
    "    with open(map_fpath) as map_file:\n",
    "        map_reader = csv.reader(map_file)\n",
    "        map_raw = list(map_reader)\n",
    "\n",
    "    map_headers = map_raw.pop(0)\n",
    "    map_df = pd.DataFrame(map_raw, columns=map_headers)\n",
    "    map_df = map_df.set_index('GEOID')\n",
    "\n",
    "    map_gdf[i] = gdf.join(map_df)\n",
    "    map_gdf[i]['district'] = map_gdf[i]['district'].fillna(value=-1).astype(int)"
   ]
  },
  {
   "cell_type": "code",
   "execution_count": 5,
   "metadata": {
    "scrolled": true
   },
   "outputs": [],
   "source": [
    "# Create Partition objects from \n",
    "# map_gdf[0] (dem gerrymander) and \n",
    "# map_gdf[1] (rep gerrymander)\n",
    "# (Takes a long time)\n",
    "graph_dem = Graph.from_geodataframe(map_gdf[0], reproject=True)\n",
    "graph_dem.add_data(map_gdf[0])\n",
    "graph_rep = Graph.from_geodataframe(map_gdf[1], reproject=True)\n",
    "graph_rep.add_data(map_gdf[1])\n",
    "init_partition = Partition(graph=graph_dem, assignment='district', updaters={'cut_edges': cut_edges})\n",
    "final_partition = Partition(graph=graph_rep, assignment='district', updaters={'cut_edges': cut_edges})"
   ]
  },
  {
   "cell_type": "code",
   "execution_count": 7,
   "metadata": {},
   "outputs": [
    {
     "name": "stdout",
     "output_type": "stream",
     "text": [
      "Republican Map:\n",
      "District 1 population: 737728\n",
      "District 2 population: 737797\n",
      "District 3 population: 712864\n",
      "District 4 population: 702091\n",
      "District 5 population: 711837\n",
      "District 6 population: 677011\n",
      "District 7 population: 680545\n",
      "District 8 population: 727113\n",
      "District -1 population: 0\n",
      "\n",
      "Democratic Map:\n",
      "District 1 population: 681581\n",
      "District 2 population: 691382\n",
      "District 3 population: 737619\n",
      "District 4 population: 706056\n",
      "District 5 population: 735011\n",
      "District 6 population: 678739\n",
      "District 7 population: 736705\n",
      "District 8 population: 719893\n",
      "District -1 population: 0\n",
      "\n"
     ]
    }
   ],
   "source": [
    "# Get rough sketch of both maps\n",
    "for a in [0, 1]:\n",
    "    print('Republican Map:' if a == 0 else 'Democratic Map:')\n",
    "    for i in set(map_gdf[a]['district']):\n",
    "        pop_i = map_gdf[a]['POP'][map_gdf[a]['district'] == i].sum()\n",
    "        print('District', i, 'population:', pop_i)\n",
    "    print()\n",
    "#     if a == 0:\n",
    "#         init_partition.plot();\n",
    "#     else:\n",
    "#         final_partition.plot();"
   ]
  },
  {
   "cell_type": "code",
   "execution_count": 8,
   "metadata": {},
   "outputs": [
    {
     "name": "stdout",
     "output_type": "stream",
     "text": [
      "('55039042200', '55117011100')\n"
     ]
    }
   ],
   "source": [
    "cut_edge = random.choice(list(init_partition.cut_edges))\n",
    "print(cut_edge)"
   ]
  },
  {
   "cell_type": "code",
   "execution_count": 12,
   "metadata": {},
   "outputs": [],
   "source": [
    "# Generate list of feasible flips (one-swaps) to get successors.\n",
    "# Based on propose_random_flip(): https://github.com/mggg/GerryChain/blob/master/gerrychain/proposals/proposals.py\n",
    "partition = init_partition;\n",
    "flips = []\n",
    "for edge in partition['cut_edges']:\n",
    "    for index in [0, 1]:\n",
    "        flipped_node, other_node = edge[index], edge[1 - index]\n",
    "        flips.append({flipped_node: partition.assignment[other_node]})        "
   ]
  },
  {
   "cell_type": "code",
   "execution_count": 17,
   "metadata": {},
   "outputs": [
    {
     "name": "stdout",
     "output_type": "stream",
     "text": [
      "7.35 ms ± 514 µs per loop (mean ± std. dev. of 7 runs, 10 loops each)\n"
     ]
    }
   ],
   "source": [
    "# Compute compatibility scores w.r.t. target (rep gerrymander)\n",
    "compat = np.zeros(1 + len(flips))\n",
    "\n",
    "compat_manager = compatibility.CompatibilityManager(final_partition, init_partition, gdf)\n",
    "\n",
    "# compat[0] = compatibility(init_partition, final_partition, gdf)\n",
    "compat[0] = compat_manager.compat_index\n",
    "\n",
    "def fn():\n",
    "    for i, flip in enumerate(flips):\n",
    "        compat[i + 1] = compat_manager.calc_compatibility(flip)\n",
    "\n",
    "%timeit -n 10 fn()\n",
    "\n",
    "compat_ser = pd.Series(compat)"
   ]
  },
  {
   "cell_type": "code",
   "execution_count": 18,
   "metadata": {},
   "outputs": [],
   "source": [
    "all_units = set()\n",
    "for part in partition.parts:\n",
    "    if part > 0:\n",
    "        all_units = all_units.union(partition.parts[part])"
   ]
  },
  {
   "cell_type": "code",
   "execution_count": 34,
   "metadata": {
    "scrolled": false
   },
   "outputs": [
    {
     "name": "stdout",
     "output_type": "stream",
     "text": [
      "0.32089016511127066\n",
      "0.34960516870064606\n"
     ]
    },
    {
     "data": {
      "text/plain": [
       "array([0.30796841, 0.31012204, 0.32017229, 0.32089017, 0.32160804,\n",
       "       0.32232592, 0.32304379, 0.34745154, 0.34960517])"
      ]
     },
     "execution_count": 34,
     "metadata": {},
     "output_type": "execute_result"
    }
   ],
   "source": [
    "compat_sorted = compat_ser.sort_values(ascending=False)\n",
    "print(compat_ser[0])\n",
    "print(compat_sorted[139])\n",
    "# compat_sorted.head(10)\n",
    "top_ten_compat = [139, 804, 796, 17, 270, 232, 26, 224, 306, 705]\n",
    "for i_plus_one in top_ten_compat:\n",
    "    i = i_plus_one - 1\n",
    "    unit = list(flips[i].keys())[0]\n",
    "#     print(flips[i])\n",
    "#     print(compat[i + 1])\n",
    "#     print(compat_manager.tally_property(set([unit])))\n",
    "np.unique(compat)"
   ]
  },
  {
   "cell_type": "code",
   "execution_count": 75,
   "metadata": {},
   "outputs": [],
   "source": [
    "units_subset = init_partition.parts[3]\n",
    "units_subset_ser = pd.Series(np.array(list(units_subset)), name='GEOID')\n",
    "units_subset_ser\n",
    "gdf_units = gdf.reset_index()\n",
    "gdf_units['GEOID'] = gdf_units['GEOID']\n",
    "gdf_units['GEOID']\n",
    "# units_subset_ser\n",
    "total_pop = gdf_units.merge(units_subset_ser, on='GEOID')['POP'].sum()"
   ]
  },
  {
   "cell_type": "code",
   "execution_count": 76,
   "metadata": {
    "scrolled": true
   },
   "outputs": [
    {
     "data": {
      "text/plain": [
       "712864"
      ]
     },
     "execution_count": 76,
     "metadata": {},
     "output_type": "execute_result"
    }
   ],
   "source": [
    "total_pop"
   ]
  },
  {
   "cell_type": "code",
   "execution_count": 89,
   "metadata": {},
   "outputs": [],
   "source": [
    "all_compat_ser = Out[42]"
   ]
  },
  {
   "cell_type": "code",
   "execution_count": null,
   "metadata": {},
   "outputs": [],
   "source": []
  }
 ],
 "metadata": {
  "kernelspec": {
   "display_name": "Python 3",
   "language": "python",
   "name": "python3"
  },
  "language_info": {
   "codemirror_mode": {
    "name": "ipython",
    "version": 3
   },
   "file_extension": ".py",
   "mimetype": "text/x-python",
   "name": "python",
   "nbconvert_exporter": "python",
   "pygments_lexer": "ipython3",
   "version": "3.7.6"
  }
 },
 "nbformat": 4,
 "nbformat_minor": 4
}
